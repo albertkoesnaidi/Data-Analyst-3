{
 "cells": [
  {
   "cell_type": "code",
   "execution_count": 1,
   "metadata": {},
   "outputs": [],
   "source": [
    "import pandas as pd\n",
    "import numpy as np"
   ]
  },
  {
   "cell_type": "markdown",
   "metadata": {},
   "source": [
    "### Importing Data"
   ]
  },
  {
   "cell_type": "code",
   "execution_count": 2,
   "metadata": {},
   "outputs": [],
   "source": [
    "eng=pd.read_csv('Data/eng.csv')\n",
    "state=pd.read_csv('Data/state.csv')\n",
    "lib=pd.read_csv('Data/liberal_arts.csv')\n",
    "ivies=pd.read_csv('Data/ivies.csv')"
   ]
  },
  {
   "cell_type": "markdown",
   "metadata": {},
   "source": [
    "### Concatenating DataFrames"
   ]
  },
  {
   "cell_type": "markdown",
   "metadata": {},
   "source": [
    "Firstly we are checking the shape of all the dataframes"
   ]
  },
  {
   "cell_type": "code",
   "execution_count": 3,
   "metadata": {},
   "outputs": [
    {
     "name": "stdout",
     "output_type": "stream",
     "text": [
      "(19, 4)\n",
      "(175, 4)\n",
      "(47, 4)\n",
      "(8, 4)\n"
     ]
    }
   ],
   "source": [
    "dfs=[eng, state,lib,ivies]\n",
    "for i in dfs:\n",
    "    print(i.shape)"
   ]
  },
  {
   "cell_type": "markdown",
   "metadata": {},
   "source": [
    "Checking for the overlapping school name"
   ]
  },
  {
   "cell_type": "code",
   "execution_count": 4,
   "metadata": {},
   "outputs": [
    {
     "data": {
      "text/plain": [
       "19"
      ]
     },
     "execution_count": 4,
     "metadata": {},
     "output_type": "execute_result"
    }
   ],
   "source": [
    "len(set(eng['School Name']).difference(ivies['School Name']))"
   ]
  },
  {
   "cell_type": "code",
   "execution_count": 5,
   "metadata": {},
   "outputs": [
    {
     "data": {
      "text/plain": [
       "(27, 4)"
      ]
     },
     "execution_count": 5,
     "metadata": {},
     "output_type": "execute_result"
    }
   ],
   "source": [
    "pd.concat([eng,ivies]).shape"
   ]
  },
  {
   "cell_type": "markdown",
   "metadata": {},
   "source": [
    "So from 27 concatenated values, only 19 rows are different. The rest are same name school"
   ]
  },
  {
   "cell_type": "markdown",
   "metadata": {},
   "source": [
    "### The Duplicated Index Issue"
   ]
  },
  {
   "cell_type": "code",
   "execution_count": 6,
   "metadata": {},
   "outputs": [],
   "source": [
    "df = pd.concat(dfs)"
   ]
  },
  {
   "cell_type": "code",
   "execution_count": 7,
   "metadata": {},
   "outputs": [
    {
     "data": {
      "text/html": [
       "<div>\n",
       "<style scoped>\n",
       "    .dataframe tbody tr th:only-of-type {\n",
       "        vertical-align: middle;\n",
       "    }\n",
       "\n",
       "    .dataframe tbody tr th {\n",
       "        vertical-align: top;\n",
       "    }\n",
       "\n",
       "    .dataframe thead th {\n",
       "        text-align: right;\n",
       "    }\n",
       "</style>\n",
       "<table border=\"1\" class=\"dataframe\">\n",
       "  <thead>\n",
       "    <tr style=\"text-align: right;\">\n",
       "      <th></th>\n",
       "      <th>School Name</th>\n",
       "      <th>School Type</th>\n",
       "      <th>Starting Median Salary</th>\n",
       "      <th>Mid-Career Median Salary</th>\n",
       "    </tr>\n",
       "  </thead>\n",
       "  <tbody>\n",
       "    <tr>\n",
       "      <th>0</th>\n",
       "      <td>Massachusetts Institute of Technology (MIT)</td>\n",
       "      <td>Engineering</td>\n",
       "      <td>$72,200.00</td>\n",
       "      <td>$126,000.00</td>\n",
       "    </tr>\n",
       "    <tr>\n",
       "      <th>0</th>\n",
       "      <td>University of California, Berkeley</td>\n",
       "      <td>State</td>\n",
       "      <td>$59,900.00</td>\n",
       "      <td>$112,000.00</td>\n",
       "    </tr>\n",
       "    <tr>\n",
       "      <th>0</th>\n",
       "      <td>Bucknell University</td>\n",
       "      <td>Liberal Arts</td>\n",
       "      <td>$54,100.00</td>\n",
       "      <td>$110,000.00</td>\n",
       "    </tr>\n",
       "    <tr>\n",
       "      <th>0</th>\n",
       "      <td>Dartmouth College</td>\n",
       "      <td>Ivy League</td>\n",
       "      <td>$58,000.00</td>\n",
       "      <td>$134,000.00</td>\n",
       "    </tr>\n",
       "  </tbody>\n",
       "</table>\n",
       "</div>"
      ],
      "text/plain": [
       "                                   School Name   School Type  \\\n",
       "0  Massachusetts Institute of Technology (MIT)   Engineering   \n",
       "0           University of California, Berkeley         State   \n",
       "0                          Bucknell University  Liberal Arts   \n",
       "0                            Dartmouth College    Ivy League   \n",
       "\n",
       "  Starting Median Salary Mid-Career Median Salary  \n",
       "0            $72,200.00              $126,000.00   \n",
       "0            $59,900.00              $112,000.00   \n",
       "0            $54,100.00              $110,000.00   \n",
       "0            $58,000.00              $134,000.00   "
      ]
     },
     "execution_count": 7,
     "metadata": {},
     "output_type": "execute_result"
    }
   ],
   "source": [
    "df.loc[0]"
   ]
  },
  {
   "cell_type": "markdown",
   "metadata": {},
   "source": [
    "pd.concat() --> doesn't discard the original index of the dataframe being concatenated"
   ]
  },
  {
   "cell_type": "markdown",
   "metadata": {},
   "source": [
    "For a non-unique index label we can't use index slicing"
   ]
  },
  {
   "cell_type": "code",
   "execution_count": 8,
   "metadata": {},
   "outputs": [],
   "source": [
    "df.reset_index(drop=True, inplace=True)"
   ]
  },
  {
   "cell_type": "markdown",
   "metadata": {},
   "source": [
    "### Enforcing Unique Indices"
   ]
  },
  {
   "cell_type": "code",
   "execution_count": 9,
   "metadata": {},
   "outputs": [],
   "source": [
    "eng2=eng.set_index('School Name')"
   ]
  },
  {
   "cell_type": "code",
   "execution_count": 10,
   "metadata": {},
   "outputs": [],
   "source": [
    "ivies2=ivies.set_index('School Name')"
   ]
  },
  {
   "cell_type": "code",
   "execution_count": 11,
   "metadata": {},
   "outputs": [
    {
     "data": {
      "text/html": [
       "<div>\n",
       "<style scoped>\n",
       "    .dataframe tbody tr th:only-of-type {\n",
       "        vertical-align: middle;\n",
       "    }\n",
       "\n",
       "    .dataframe tbody tr th {\n",
       "        vertical-align: top;\n",
       "    }\n",
       "\n",
       "    .dataframe thead th {\n",
       "        text-align: right;\n",
       "    }\n",
       "</style>\n",
       "<table border=\"1\" class=\"dataframe\">\n",
       "  <thead>\n",
       "    <tr style=\"text-align: right;\">\n",
       "      <th></th>\n",
       "      <th>School Type</th>\n",
       "      <th>Starting Median Salary</th>\n",
       "      <th>Mid-Career Median Salary</th>\n",
       "    </tr>\n",
       "    <tr>\n",
       "      <th>School Name</th>\n",
       "      <th></th>\n",
       "      <th></th>\n",
       "      <th></th>\n",
       "    </tr>\n",
       "  </thead>\n",
       "  <tbody>\n",
       "    <tr>\n",
       "      <th>Massachusetts Institute of Technology (MIT)</th>\n",
       "      <td>Engineering</td>\n",
       "      <td>$72,200.00</td>\n",
       "      <td>$126,000.00</td>\n",
       "    </tr>\n",
       "    <tr>\n",
       "      <th>California Institute of Technology (CIT)</th>\n",
       "      <td>Engineering</td>\n",
       "      <td>$75,500.00</td>\n",
       "      <td>$123,000.00</td>\n",
       "    </tr>\n",
       "    <tr>\n",
       "      <th>Harvey Mudd College</th>\n",
       "      <td>Engineering</td>\n",
       "      <td>$71,800.00</td>\n",
       "      <td>$122,000.00</td>\n",
       "    </tr>\n",
       "    <tr>\n",
       "      <th>Polytechnic University of New York, Brooklyn</th>\n",
       "      <td>Engineering</td>\n",
       "      <td>$62,400.00</td>\n",
       "      <td>$114,000.00</td>\n",
       "    </tr>\n",
       "    <tr>\n",
       "      <th>Cooper Union</th>\n",
       "      <td>Engineering</td>\n",
       "      <td>$62,200.00</td>\n",
       "      <td>$114,000.00</td>\n",
       "    </tr>\n",
       "  </tbody>\n",
       "</table>\n",
       "</div>"
      ],
      "text/plain": [
       "                                              School Type  \\\n",
       "School Name                                                 \n",
       "Massachusetts Institute of Technology (MIT)   Engineering   \n",
       "California Institute of Technology (CIT)      Engineering   \n",
       "Harvey Mudd College                           Engineering   \n",
       "Polytechnic University of New York, Brooklyn  Engineering   \n",
       "Cooper Union                                  Engineering   \n",
       "\n",
       "                                             Starting Median Salary  \\\n",
       "School Name                                                           \n",
       "Massachusetts Institute of Technology (MIT)             $72,200.00    \n",
       "California Institute of Technology (CIT)                $75,500.00    \n",
       "Harvey Mudd College                                     $71,800.00    \n",
       "Polytechnic University of New York, Brooklyn            $62,400.00    \n",
       "Cooper Union                                            $62,200.00    \n",
       "\n",
       "                                             Mid-Career Median Salary  \n",
       "School Name                                                            \n",
       "Massachusetts Institute of Technology (MIT)              $126,000.00   \n",
       "California Institute of Technology (CIT)                 $123,000.00   \n",
       "Harvey Mudd College                                      $122,000.00   \n",
       "Polytechnic University of New York, Brooklyn             $114,000.00   \n",
       "Cooper Union                                             $114,000.00   "
      ]
     },
     "execution_count": 11,
     "metadata": {},
     "output_type": "execute_result"
    }
   ],
   "source": [
    "pd.concat([eng2,ivies2], verify_integrity=True).head()\n"
   ]
  },
  {
   "cell_type": "markdown",
   "metadata": {},
   "source": [
    "### Creating Multiple Indices Using Concat"
   ]
  },
  {
   "cell_type": "code",
   "execution_count": 12,
   "metadata": {},
   "outputs": [
    {
     "data": {
      "text/html": [
       "<div>\n",
       "<style scoped>\n",
       "    .dataframe tbody tr th:only-of-type {\n",
       "        vertical-align: middle;\n",
       "    }\n",
       "\n",
       "    .dataframe tbody tr th {\n",
       "        vertical-align: top;\n",
       "    }\n",
       "\n",
       "    .dataframe thead th {\n",
       "        text-align: right;\n",
       "    }\n",
       "</style>\n",
       "<table border=\"1\" class=\"dataframe\">\n",
       "  <thead>\n",
       "    <tr style=\"text-align: right;\">\n",
       "      <th></th>\n",
       "      <th></th>\n",
       "      <th>School Name</th>\n",
       "      <th>School Type</th>\n",
       "      <th>Starting Median Salary</th>\n",
       "      <th>Mid-Career Median Salary</th>\n",
       "    </tr>\n",
       "  </thead>\n",
       "  <tbody>\n",
       "    <tr>\n",
       "      <th rowspan=\"19\" valign=\"top\">engineer</th>\n",
       "      <th>0</th>\n",
       "      <td>Massachusetts Institute of Technology (MIT)</td>\n",
       "      <td>Engineering</td>\n",
       "      <td>$72,200.00</td>\n",
       "      <td>$126,000.00</td>\n",
       "    </tr>\n",
       "    <tr>\n",
       "      <th>1</th>\n",
       "      <td>California Institute of Technology (CIT)</td>\n",
       "      <td>Engineering</td>\n",
       "      <td>$75,500.00</td>\n",
       "      <td>$123,000.00</td>\n",
       "    </tr>\n",
       "    <tr>\n",
       "      <th>2</th>\n",
       "      <td>Harvey Mudd College</td>\n",
       "      <td>Engineering</td>\n",
       "      <td>$71,800.00</td>\n",
       "      <td>$122,000.00</td>\n",
       "    </tr>\n",
       "    <tr>\n",
       "      <th>3</th>\n",
       "      <td>Polytechnic University of New York, Brooklyn</td>\n",
       "      <td>Engineering</td>\n",
       "      <td>$62,400.00</td>\n",
       "      <td>$114,000.00</td>\n",
       "    </tr>\n",
       "    <tr>\n",
       "      <th>4</th>\n",
       "      <td>Cooper Union</td>\n",
       "      <td>Engineering</td>\n",
       "      <td>$62,200.00</td>\n",
       "      <td>$114,000.00</td>\n",
       "    </tr>\n",
       "    <tr>\n",
       "      <th>5</th>\n",
       "      <td>Worcester Polytechnic Institute (WPI)</td>\n",
       "      <td>Engineering</td>\n",
       "      <td>$61,000.00</td>\n",
       "      <td>$114,000.00</td>\n",
       "    </tr>\n",
       "    <tr>\n",
       "      <th>6</th>\n",
       "      <td>Carnegie Mellon University (CMU)</td>\n",
       "      <td>Engineering</td>\n",
       "      <td>$61,800.00</td>\n",
       "      <td>$111,000.00</td>\n",
       "    </tr>\n",
       "    <tr>\n",
       "      <th>7</th>\n",
       "      <td>Rensselaer Polytechnic Institute (RPI)</td>\n",
       "      <td>Engineering</td>\n",
       "      <td>$61,100.00</td>\n",
       "      <td>$110,000.00</td>\n",
       "    </tr>\n",
       "    <tr>\n",
       "      <th>8</th>\n",
       "      <td>Georgia Institute of Technology</td>\n",
       "      <td>Engineering</td>\n",
       "      <td>$58,300.00</td>\n",
       "      <td>$106,000.00</td>\n",
       "    </tr>\n",
       "    <tr>\n",
       "      <th>9</th>\n",
       "      <td>Colorado School of Mines</td>\n",
       "      <td>Engineering</td>\n",
       "      <td>$58,100.00</td>\n",
       "      <td>$106,000.00</td>\n",
       "    </tr>\n",
       "    <tr>\n",
       "      <th>10</th>\n",
       "      <td>Stevens Institute of Technology</td>\n",
       "      <td>Engineering</td>\n",
       "      <td>$60,600.00</td>\n",
       "      <td>$105,000.00</td>\n",
       "    </tr>\n",
       "    <tr>\n",
       "      <th>11</th>\n",
       "      <td>Illinois Institute of Technology (IIT)</td>\n",
       "      <td>Engineering</td>\n",
       "      <td>$56,000.00</td>\n",
       "      <td>$97,800.00</td>\n",
       "    </tr>\n",
       "    <tr>\n",
       "      <th>12</th>\n",
       "      <td>Wentworth Institute of Technology</td>\n",
       "      <td>Engineering</td>\n",
       "      <td>$53,000.00</td>\n",
       "      <td>$96,700.00</td>\n",
       "    </tr>\n",
       "    <tr>\n",
       "      <th>13</th>\n",
       "      <td>Virginia Polytechnic Institute and State Unive...</td>\n",
       "      <td>Engineering</td>\n",
       "      <td>$53,500.00</td>\n",
       "      <td>$95,400.00</td>\n",
       "    </tr>\n",
       "    <tr>\n",
       "      <th>14</th>\n",
       "      <td>South Dakota School of Mines &amp; Technology</td>\n",
       "      <td>Engineering</td>\n",
       "      <td>$55,800.00</td>\n",
       "      <td>$93,400.00</td>\n",
       "    </tr>\n",
       "    <tr>\n",
       "      <th>15</th>\n",
       "      <td>New Mexico Institute of Mining and Technology ...</td>\n",
       "      <td>Engineering</td>\n",
       "      <td>$51,000.00</td>\n",
       "      <td>$93,400.00</td>\n",
       "    </tr>\n",
       "    <tr>\n",
       "      <th>16</th>\n",
       "      <td>Rochester Institute of Technology (RIT)</td>\n",
       "      <td>Engineering</td>\n",
       "      <td>$48,900.00</td>\n",
       "      <td>$84,600.00</td>\n",
       "    </tr>\n",
       "    <tr>\n",
       "      <th>17</th>\n",
       "      <td>Embry-Riddle Aeronautical University (ERAU)</td>\n",
       "      <td>Engineering</td>\n",
       "      <td>$52,700.00</td>\n",
       "      <td>$80,700.00</td>\n",
       "    </tr>\n",
       "    <tr>\n",
       "      <th>18</th>\n",
       "      <td>Tennessee Technological University</td>\n",
       "      <td>Engineering</td>\n",
       "      <td>$46,200.00</td>\n",
       "      <td>$80,000.00</td>\n",
       "    </tr>\n",
       "    <tr>\n",
       "      <th rowspan=\"8\" valign=\"top\">ivy league</th>\n",
       "      <th>0</th>\n",
       "      <td>Dartmouth College</td>\n",
       "      <td>Ivy League</td>\n",
       "      <td>$58,000.00</td>\n",
       "      <td>$134,000.00</td>\n",
       "    </tr>\n",
       "    <tr>\n",
       "      <th>1</th>\n",
       "      <td>Princeton University</td>\n",
       "      <td>Ivy League</td>\n",
       "      <td>$66,500.00</td>\n",
       "      <td>$131,000.00</td>\n",
       "    </tr>\n",
       "    <tr>\n",
       "      <th>2</th>\n",
       "      <td>Yale University</td>\n",
       "      <td>Ivy League</td>\n",
       "      <td>$59,100.00</td>\n",
       "      <td>$126,000.00</td>\n",
       "    </tr>\n",
       "    <tr>\n",
       "      <th>3</th>\n",
       "      <td>Harvard University</td>\n",
       "      <td>Ivy League</td>\n",
       "      <td>$63,400.00</td>\n",
       "      <td>$124,000.00</td>\n",
       "    </tr>\n",
       "    <tr>\n",
       "      <th>4</th>\n",
       "      <td>University of Pennsylvania</td>\n",
       "      <td>Ivy League</td>\n",
       "      <td>$60,900.00</td>\n",
       "      <td>$120,000.00</td>\n",
       "    </tr>\n",
       "    <tr>\n",
       "      <th>5</th>\n",
       "      <td>Cornell University</td>\n",
       "      <td>Ivy League</td>\n",
       "      <td>$60,300.00</td>\n",
       "      <td>$110,000.00</td>\n",
       "    </tr>\n",
       "    <tr>\n",
       "      <th>6</th>\n",
       "      <td>Brown University</td>\n",
       "      <td>Ivy League</td>\n",
       "      <td>$56,200.00</td>\n",
       "      <td>$109,000.00</td>\n",
       "    </tr>\n",
       "    <tr>\n",
       "      <th>7</th>\n",
       "      <td>Columbia University</td>\n",
       "      <td>Ivy League</td>\n",
       "      <td>$59,400.00</td>\n",
       "      <td>$107,000.00</td>\n",
       "    </tr>\n",
       "  </tbody>\n",
       "</table>\n",
       "</div>"
      ],
      "text/plain": [
       "                                                     School Name  School Type  \\\n",
       "engineer   0         Massachusetts Institute of Technology (MIT)  Engineering   \n",
       "           1            California Institute of Technology (CIT)  Engineering   \n",
       "           2                                 Harvey Mudd College  Engineering   \n",
       "           3        Polytechnic University of New York, Brooklyn  Engineering   \n",
       "           4                                        Cooper Union  Engineering   \n",
       "           5               Worcester Polytechnic Institute (WPI)  Engineering   \n",
       "           6                    Carnegie Mellon University (CMU)  Engineering   \n",
       "           7              Rensselaer Polytechnic Institute (RPI)  Engineering   \n",
       "           8                     Georgia Institute of Technology  Engineering   \n",
       "           9                            Colorado School of Mines  Engineering   \n",
       "           10                    Stevens Institute of Technology  Engineering   \n",
       "           11             Illinois Institute of Technology (IIT)  Engineering   \n",
       "           12                  Wentworth Institute of Technology  Engineering   \n",
       "           13  Virginia Polytechnic Institute and State Unive...  Engineering   \n",
       "           14          South Dakota School of Mines & Technology  Engineering   \n",
       "           15  New Mexico Institute of Mining and Technology ...  Engineering   \n",
       "           16            Rochester Institute of Technology (RIT)  Engineering   \n",
       "           17        Embry-Riddle Aeronautical University (ERAU)  Engineering   \n",
       "           18                 Tennessee Technological University  Engineering   \n",
       "ivy league 0                                   Dartmouth College   Ivy League   \n",
       "           1                                Princeton University   Ivy League   \n",
       "           2                                     Yale University   Ivy League   \n",
       "           3                                  Harvard University   Ivy League   \n",
       "           4                          University of Pennsylvania   Ivy League   \n",
       "           5                                  Cornell University   Ivy League   \n",
       "           6                                    Brown University   Ivy League   \n",
       "           7                                 Columbia University   Ivy League   \n",
       "\n",
       "              Starting Median Salary Mid-Career Median Salary  \n",
       "engineer   0             $72,200.00              $126,000.00   \n",
       "           1             $75,500.00              $123,000.00   \n",
       "           2             $71,800.00              $122,000.00   \n",
       "           3             $62,400.00              $114,000.00   \n",
       "           4             $62,200.00              $114,000.00   \n",
       "           5             $61,000.00              $114,000.00   \n",
       "           6             $61,800.00              $111,000.00   \n",
       "           7             $61,100.00              $110,000.00   \n",
       "           8             $58,300.00              $106,000.00   \n",
       "           9             $58,100.00              $106,000.00   \n",
       "           10            $60,600.00              $105,000.00   \n",
       "           11            $56,000.00               $97,800.00   \n",
       "           12            $53,000.00               $96,700.00   \n",
       "           13            $53,500.00               $95,400.00   \n",
       "           14            $55,800.00               $93,400.00   \n",
       "           15            $51,000.00               $93,400.00   \n",
       "           16            $48,900.00               $84,600.00   \n",
       "           17            $52,700.00               $80,700.00   \n",
       "           18            $46,200.00               $80,000.00   \n",
       "ivy league 0             $58,000.00              $134,000.00   \n",
       "           1             $66,500.00              $131,000.00   \n",
       "           2             $59,100.00              $126,000.00   \n",
       "           3             $63,400.00              $124,000.00   \n",
       "           4             $60,900.00              $120,000.00   \n",
       "           5             $60,300.00              $110,000.00   \n",
       "           6             $56,200.00              $109,000.00   \n",
       "           7             $59,400.00              $107,000.00   "
      ]
     },
     "execution_count": 12,
     "metadata": {},
     "output_type": "execute_result"
    }
   ],
   "source": [
    "new_df=pd.concat([eng,ivies], keys=['engineer', 'ivy league'])\n",
    "new_df"
   ]
  },
  {
   "cell_type": "markdown",
   "metadata": {},
   "source": [
    "The inner level index is the numer index and the outer leve is the 'engineer'/ 'ivy league'"
   ]
  },
  {
   "cell_type": "code",
   "execution_count": 13,
   "metadata": {},
   "outputs": [
    {
     "data": {
      "text/plain": [
       "pandas.core.indexes.multi.MultiIndex"
      ]
     },
     "execution_count": 13,
     "metadata": {},
     "output_type": "execute_result"
    }
   ],
   "source": [
    "type(new_df.index)"
   ]
  },
  {
   "cell_type": "code",
   "execution_count": 14,
   "metadata": {},
   "outputs": [
    {
     "data": {
      "text/plain": [
       "pandas.core.indexes.range.RangeIndex"
      ]
     },
     "execution_count": 14,
     "metadata": {},
     "output_type": "execute_result"
    }
   ],
   "source": [
    "type(eng.index)"
   ]
  },
  {
   "cell_type": "markdown",
   "metadata": {},
   "source": [
    "loc with multi index should use parenthesis ()"
   ]
  },
  {
   "cell_type": "code",
   "execution_count": 15,
   "metadata": {},
   "outputs": [
    {
     "data": {
      "text/plain": [
       "School Name                 Polytechnic University of New York, Brooklyn\n",
       "School Type                                                  Engineering\n",
       "Starting Median Salary                                       $62,400.00 \n",
       "Mid-Career Median Salary                                    $114,000.00 \n",
       "Name: (engineer, 3), dtype: object"
      ]
     },
     "execution_count": 15,
     "metadata": {},
     "output_type": "execute_result"
    }
   ],
   "source": [
    "new_df.loc[('engineer',3)]"
   ]
  },
  {
   "cell_type": "code",
   "execution_count": 16,
   "metadata": {},
   "outputs": [
    {
     "data": {
      "text/plain": [
       "School Name                 Polytechnic University of New York, Brooklyn\n",
       "School Type                                                  Engineering\n",
       "Starting Median Salary                                       $62,400.00 \n",
       "Mid-Career Median Salary                                    $114,000.00 \n",
       "Name: 3, dtype: object"
      ]
     },
     "execution_count": 16,
     "metadata": {},
     "output_type": "execute_result"
    }
   ],
   "source": [
    "eng.loc[3]"
   ]
  },
  {
   "cell_type": "code",
   "execution_count": 17,
   "metadata": {},
   "outputs": [
    {
     "data": {
      "text/html": [
       "<div>\n",
       "<style scoped>\n",
       "    .dataframe tbody tr th:only-of-type {\n",
       "        vertical-align: middle;\n",
       "    }\n",
       "\n",
       "    .dataframe tbody tr th {\n",
       "        vertical-align: top;\n",
       "    }\n",
       "\n",
       "    .dataframe thead th {\n",
       "        text-align: right;\n",
       "    }\n",
       "</style>\n",
       "<table border=\"1\" class=\"dataframe\">\n",
       "  <thead>\n",
       "    <tr style=\"text-align: right;\">\n",
       "      <th></th>\n",
       "      <th></th>\n",
       "      <th>School Name</th>\n",
       "      <th>School Type</th>\n",
       "      <th>Starting Median Salary</th>\n",
       "      <th>Mid-Career Median Salary</th>\n",
       "    </tr>\n",
       "  </thead>\n",
       "  <tbody>\n",
       "    <tr>\n",
       "      <th rowspan=\"5\" valign=\"top\">engineer</th>\n",
       "      <th>0</th>\n",
       "      <td>Massachusetts Institute of Technology (MIT)</td>\n",
       "      <td>Engineering</td>\n",
       "      <td>$72,200.00</td>\n",
       "      <td>$126,000.00</td>\n",
       "    </tr>\n",
       "    <tr>\n",
       "      <th>1</th>\n",
       "      <td>California Institute of Technology (CIT)</td>\n",
       "      <td>Engineering</td>\n",
       "      <td>$75,500.00</td>\n",
       "      <td>$123,000.00</td>\n",
       "    </tr>\n",
       "    <tr>\n",
       "      <th>2</th>\n",
       "      <td>Harvey Mudd College</td>\n",
       "      <td>Engineering</td>\n",
       "      <td>$71,800.00</td>\n",
       "      <td>$122,000.00</td>\n",
       "    </tr>\n",
       "    <tr>\n",
       "      <th>3</th>\n",
       "      <td>Polytechnic University of New York, Brooklyn</td>\n",
       "      <td>Engineering</td>\n",
       "      <td>$62,400.00</td>\n",
       "      <td>$114,000.00</td>\n",
       "    </tr>\n",
       "    <tr>\n",
       "      <th>4</th>\n",
       "      <td>Cooper Union</td>\n",
       "      <td>Engineering</td>\n",
       "      <td>$62,200.00</td>\n",
       "      <td>$114,000.00</td>\n",
       "    </tr>\n",
       "  </tbody>\n",
       "</table>\n",
       "</div>"
      ],
      "text/plain": [
       "                                             School Name  School Type  \\\n",
       "engineer 0   Massachusetts Institute of Technology (MIT)  Engineering   \n",
       "         1      California Institute of Technology (CIT)  Engineering   \n",
       "         2                           Harvey Mudd College  Engineering   \n",
       "         3  Polytechnic University of New York, Brooklyn  Engineering   \n",
       "         4                                  Cooper Union  Engineering   \n",
       "\n",
       "           Starting Median Salary Mid-Career Median Salary  \n",
       "engineer 0            $72,200.00              $126,000.00   \n",
       "         1            $75,500.00              $123,000.00   \n",
       "         2            $71,800.00              $122,000.00   \n",
       "         3            $62,400.00              $114,000.00   \n",
       "         4            $62,200.00              $114,000.00   "
      ]
     },
     "execution_count": 17,
     "metadata": {},
     "output_type": "execute_result"
    }
   ],
   "source": [
    "new_df.head()"
   ]
  },
  {
   "cell_type": "markdown",
   "metadata": {},
   "source": [
    "For iloc just works the same with multi index dataframe"
   ]
  },
  {
   "cell_type": "code",
   "execution_count": 18,
   "metadata": {},
   "outputs": [
    {
     "data": {
      "text/plain": [
       "School Name                 Polytechnic University of New York, Brooklyn\n",
       "School Type                                                  Engineering\n",
       "Starting Median Salary                                       $62,400.00 \n",
       "Mid-Career Median Salary                                    $114,000.00 \n",
       "Name: (engineer, 3), dtype: object"
      ]
     },
     "execution_count": 18,
     "metadata": {},
     "output_type": "execute_result"
    }
   ],
   "source": [
    "new_df.iloc[3]"
   ]
  },
  {
   "cell_type": "markdown",
   "metadata": {},
   "source": [
    "### Column Axis Concatenation"
   ]
  },
  {
   "cell_type": "markdown",
   "metadata": {},
   "source": [
    "We want to reflect a side by side  in a new dataframe. The top five ivy league and engineering school that produce the highest earning graduates"
   ]
  },
  {
   "cell_type": "code",
   "execution_count": 19,
   "metadata": {},
   "outputs": [
    {
     "data": {
      "text/html": [
       "<div>\n",
       "<style scoped>\n",
       "    .dataframe tbody tr th:only-of-type {\n",
       "        vertical-align: middle;\n",
       "    }\n",
       "\n",
       "    .dataframe tbody tr th {\n",
       "        vertical-align: top;\n",
       "    }\n",
       "\n",
       "    .dataframe thead th {\n",
       "        text-align: right;\n",
       "    }\n",
       "</style>\n",
       "<table border=\"1\" class=\"dataframe\">\n",
       "  <thead>\n",
       "    <tr style=\"text-align: right;\">\n",
       "      <th></th>\n",
       "      <th>School Name</th>\n",
       "      <th>School Type</th>\n",
       "      <th>Starting Median Salary</th>\n",
       "      <th>Mid-Career Median Salary</th>\n",
       "    </tr>\n",
       "  </thead>\n",
       "  <tbody>\n",
       "    <tr>\n",
       "      <th>1</th>\n",
       "      <td>Princeton University</td>\n",
       "      <td>Ivy League</td>\n",
       "      <td>$66,500.00</td>\n",
       "      <td>$131,000.00</td>\n",
       "    </tr>\n",
       "    <tr>\n",
       "      <th>3</th>\n",
       "      <td>Harvard University</td>\n",
       "      <td>Ivy League</td>\n",
       "      <td>$63,400.00</td>\n",
       "      <td>$124,000.00</td>\n",
       "    </tr>\n",
       "    <tr>\n",
       "      <th>4</th>\n",
       "      <td>University of Pennsylvania</td>\n",
       "      <td>Ivy League</td>\n",
       "      <td>$60,900.00</td>\n",
       "      <td>$120,000.00</td>\n",
       "    </tr>\n",
       "    <tr>\n",
       "      <th>5</th>\n",
       "      <td>Cornell University</td>\n",
       "      <td>Ivy League</td>\n",
       "      <td>$60,300.00</td>\n",
       "      <td>$110,000.00</td>\n",
       "    </tr>\n",
       "    <tr>\n",
       "      <th>7</th>\n",
       "      <td>Columbia University</td>\n",
       "      <td>Ivy League</td>\n",
       "      <td>$59,400.00</td>\n",
       "      <td>$107,000.00</td>\n",
       "    </tr>\n",
       "  </tbody>\n",
       "</table>\n",
       "</div>"
      ],
      "text/plain": [
       "                  School Name School Type Starting Median Salary  \\\n",
       "1        Princeton University  Ivy League            $66,500.00    \n",
       "3          Harvard University  Ivy League            $63,400.00    \n",
       "4  University of Pennsylvania  Ivy League            $60,900.00    \n",
       "5          Cornell University  Ivy League            $60,300.00    \n",
       "7         Columbia University  Ivy League            $59,400.00    \n",
       "\n",
       "  Mid-Career Median Salary  \n",
       "1             $131,000.00   \n",
       "3             $124,000.00   \n",
       "4             $120,000.00   \n",
       "5             $110,000.00   \n",
       "7             $107,000.00   "
      ]
     },
     "execution_count": 19,
     "metadata": {},
     "output_type": "execute_result"
    }
   ],
   "source": [
    "ivies.sort_values(by='Starting Median Salary', ascending=False)[:5]"
   ]
  },
  {
   "cell_type": "code",
   "execution_count": 20,
   "metadata": {},
   "outputs": [],
   "source": [
    "ivies3=ivies.sort_values(by='Starting Median Salary', ascending=True)[:5].reset_index(drop=True)"
   ]
  },
  {
   "cell_type": "code",
   "execution_count": 21,
   "metadata": {},
   "outputs": [],
   "source": [
    "eng3=eng.sort_values(by='Starting Median Salary', ascending=True)[:5].reset_index(drop=True)"
   ]
  },
  {
   "cell_type": "markdown",
   "metadata": {},
   "source": [
    "Easy virtual comparison:"
   ]
  },
  {
   "cell_type": "code",
   "execution_count": 22,
   "metadata": {},
   "outputs": [
    {
     "data": {
      "text/html": [
       "<div>\n",
       "<style scoped>\n",
       "    .dataframe tbody tr th:only-of-type {\n",
       "        vertical-align: middle;\n",
       "    }\n",
       "\n",
       "    .dataframe tbody tr th {\n",
       "        vertical-align: top;\n",
       "    }\n",
       "\n",
       "    .dataframe thead th {\n",
       "        text-align: right;\n",
       "    }\n",
       "</style>\n",
       "<table border=\"1\" class=\"dataframe\">\n",
       "  <thead>\n",
       "    <tr style=\"text-align: right;\">\n",
       "      <th></th>\n",
       "      <th>School Name</th>\n",
       "      <th>School Type</th>\n",
       "      <th>Starting Median Salary</th>\n",
       "      <th>Mid-Career Median Salary</th>\n",
       "      <th>School Name</th>\n",
       "      <th>School Type</th>\n",
       "      <th>Starting Median Salary</th>\n",
       "      <th>Mid-Career Median Salary</th>\n",
       "    </tr>\n",
       "  </thead>\n",
       "  <tbody>\n",
       "    <tr>\n",
       "      <th>0</th>\n",
       "      <td>Brown University</td>\n",
       "      <td>Ivy League</td>\n",
       "      <td>$56,200.00</td>\n",
       "      <td>$109,000.00</td>\n",
       "      <td>Tennessee Technological University</td>\n",
       "      <td>Engineering</td>\n",
       "      <td>$46,200.00</td>\n",
       "      <td>$80,000.00</td>\n",
       "    </tr>\n",
       "    <tr>\n",
       "      <th>1</th>\n",
       "      <td>Dartmouth College</td>\n",
       "      <td>Ivy League</td>\n",
       "      <td>$58,000.00</td>\n",
       "      <td>$134,000.00</td>\n",
       "      <td>Rochester Institute of Technology (RIT)</td>\n",
       "      <td>Engineering</td>\n",
       "      <td>$48,900.00</td>\n",
       "      <td>$84,600.00</td>\n",
       "    </tr>\n",
       "    <tr>\n",
       "      <th>2</th>\n",
       "      <td>Yale University</td>\n",
       "      <td>Ivy League</td>\n",
       "      <td>$59,100.00</td>\n",
       "      <td>$126,000.00</td>\n",
       "      <td>New Mexico Institute of Mining and Technology ...</td>\n",
       "      <td>Engineering</td>\n",
       "      <td>$51,000.00</td>\n",
       "      <td>$93,400.00</td>\n",
       "    </tr>\n",
       "    <tr>\n",
       "      <th>3</th>\n",
       "      <td>Columbia University</td>\n",
       "      <td>Ivy League</td>\n",
       "      <td>$59,400.00</td>\n",
       "      <td>$107,000.00</td>\n",
       "      <td>Embry-Riddle Aeronautical University (ERAU)</td>\n",
       "      <td>Engineering</td>\n",
       "      <td>$52,700.00</td>\n",
       "      <td>$80,700.00</td>\n",
       "    </tr>\n",
       "    <tr>\n",
       "      <th>4</th>\n",
       "      <td>Cornell University</td>\n",
       "      <td>Ivy League</td>\n",
       "      <td>$60,300.00</td>\n",
       "      <td>$110,000.00</td>\n",
       "      <td>Wentworth Institute of Technology</td>\n",
       "      <td>Engineering</td>\n",
       "      <td>$53,000.00</td>\n",
       "      <td>$96,700.00</td>\n",
       "    </tr>\n",
       "  </tbody>\n",
       "</table>\n",
       "</div>"
      ],
      "text/plain": [
       "           School Name School Type Starting Median Salary  \\\n",
       "0     Brown University  Ivy League            $56,200.00    \n",
       "1    Dartmouth College  Ivy League            $58,000.00    \n",
       "2      Yale University  Ivy League            $59,100.00    \n",
       "3  Columbia University  Ivy League            $59,400.00    \n",
       "4   Cornell University  Ivy League            $60,300.00    \n",
       "\n",
       "  Mid-Career Median Salary                                        School Name  \\\n",
       "0             $109,000.00                  Tennessee Technological University   \n",
       "1             $134,000.00             Rochester Institute of Technology (RIT)   \n",
       "2             $126,000.00   New Mexico Institute of Mining and Technology ...   \n",
       "3             $107,000.00         Embry-Riddle Aeronautical University (ERAU)   \n",
       "4             $110,000.00                   Wentworth Institute of Technology   \n",
       "\n",
       "   School Type Starting Median Salary Mid-Career Median Salary  \n",
       "0  Engineering            $46,200.00               $80,000.00   \n",
       "1  Engineering            $48,900.00               $84,600.00   \n",
       "2  Engineering            $51,000.00               $93,400.00   \n",
       "3  Engineering            $52,700.00               $80,700.00   \n",
       "4  Engineering            $53,000.00               $96,700.00   "
      ]
     },
     "execution_count": 22,
     "metadata": {},
     "output_type": "execute_result"
    }
   ],
   "source": [
    "pd.concat([ivies3,eng3],axis=1)"
   ]
  },
  {
   "cell_type": "markdown",
   "metadata": {},
   "source": [
    "It is good to look at. But not very nice to work with!"
   ]
  },
  {
   "cell_type": "markdown",
   "metadata": {},
   "source": [
    "### Difference between concat() and append()"
   ]
  },
  {
   "cell_type": "markdown",
   "metadata": {},
   "source": [
    "- df.append() method is a dataframe instance method (so it must have a underlying dataframe)\n",
    "- unlike pd.concat() can be used without underlying dataframe (or we can make a new dataframe with pd.concat())\n",
    "- df.append() only operates along the index axis (axis =0), therfore can't do column addition"
   ]
  },
  {
   "cell_type": "code",
   "execution_count": 23,
   "metadata": {},
   "outputs": [],
   "source": [
    "eng4=eng.copy()"
   ]
  },
  {
   "cell_type": "markdown",
   "metadata": {},
   "source": [
    "STEM --> Science, Technology, Engineering and Math. Engineering is a STEM Degree"
   ]
  },
  {
   "cell_type": "code",
   "execution_count": 24,
   "metadata": {},
   "outputs": [],
   "source": [
    "eng4['STEM']=True"
   ]
  },
  {
   "cell_type": "code",
   "execution_count": 25,
   "metadata": {},
   "outputs": [
    {
     "data": {
      "text/html": [
       "<div>\n",
       "<style scoped>\n",
       "    .dataframe tbody tr th:only-of-type {\n",
       "        vertical-align: middle;\n",
       "    }\n",
       "\n",
       "    .dataframe tbody tr th {\n",
       "        vertical-align: top;\n",
       "    }\n",
       "\n",
       "    .dataframe thead th {\n",
       "        text-align: right;\n",
       "    }\n",
       "</style>\n",
       "<table border=\"1\" class=\"dataframe\">\n",
       "  <thead>\n",
       "    <tr style=\"text-align: right;\">\n",
       "      <th></th>\n",
       "      <th>School Name</th>\n",
       "      <th>School Type</th>\n",
       "      <th>Starting Median Salary</th>\n",
       "      <th>Mid-Career Median Salary</th>\n",
       "    </tr>\n",
       "  </thead>\n",
       "  <tbody>\n",
       "    <tr>\n",
       "      <th>0</th>\n",
       "      <td>Dartmouth College</td>\n",
       "      <td>Ivy League</td>\n",
       "      <td>$58,000.00</td>\n",
       "      <td>$134,000.00</td>\n",
       "    </tr>\n",
       "    <tr>\n",
       "      <th>1</th>\n",
       "      <td>Princeton University</td>\n",
       "      <td>Ivy League</td>\n",
       "      <td>$66,500.00</td>\n",
       "      <td>$131,000.00</td>\n",
       "    </tr>\n",
       "  </tbody>\n",
       "</table>\n",
       "</div>"
      ],
      "text/plain": [
       "            School Name School Type Starting Median Salary  \\\n",
       "0     Dartmouth College  Ivy League            $58,000.00    \n",
       "1  Princeton University  Ivy League            $66,500.00    \n",
       "\n",
       "  Mid-Career Median Salary  \n",
       "0             $134,000.00   \n",
       "1             $131,000.00   "
      ]
     },
     "execution_count": 25,
     "metadata": {},
     "output_type": "execute_result"
    }
   ],
   "source": [
    "pd.concat([ivies,eng4], join='inner').head(2)"
   ]
  },
  {
   "cell_type": "markdown",
   "metadata": {},
   "source": [
    "'inner' indicates to pandas that we only want to see the columns that both dataframes have in common"
   ]
  },
  {
   "cell_type": "markdown",
   "metadata": {},
   "source": [
    "### Uebung concat"
   ]
  },
  {
   "cell_type": "markdown",
   "metadata": {},
   "source": [
    "- concatenate the liberal and state schools into a new dataframe\n",
    "- what is the median starting salary in this new dataframe?\n",
    "- create a short dataframe that shows the top 3 liberal arts and state schools that produce the highest (mid-carrer) earning graduates\n",
    "- show the school name and mid-career median salary columns from each dataset side by side"
   ]
  },
  {
   "cell_type": "code",
   "execution_count": 26,
   "metadata": {},
   "outputs": [],
   "source": [
    "ueb_concat=pd.concat([lib,state])"
   ]
  },
  {
   "cell_type": "code",
   "execution_count": 27,
   "metadata": {},
   "outputs": [
    {
     "data": {
      "text/html": [
       "<div>\n",
       "<style scoped>\n",
       "    .dataframe tbody tr th:only-of-type {\n",
       "        vertical-align: middle;\n",
       "    }\n",
       "\n",
       "    .dataframe tbody tr th {\n",
       "        vertical-align: top;\n",
       "    }\n",
       "\n",
       "    .dataframe thead th {\n",
       "        text-align: right;\n",
       "    }\n",
       "</style>\n",
       "<table border=\"1\" class=\"dataframe\">\n",
       "  <thead>\n",
       "    <tr style=\"text-align: right;\">\n",
       "      <th></th>\n",
       "      <th>School Name</th>\n",
       "      <th>School Type</th>\n",
       "      <th>Starting Median Salary</th>\n",
       "      <th>Mid-Career Median Salary</th>\n",
       "    </tr>\n",
       "  </thead>\n",
       "  <tbody>\n",
       "    <tr>\n",
       "      <th>0</th>\n",
       "      <td>Bucknell University</td>\n",
       "      <td>Liberal Arts</td>\n",
       "      <td>$54,100.00</td>\n",
       "      <td>$110,000.00</td>\n",
       "    </tr>\n",
       "    <tr>\n",
       "      <th>1</th>\n",
       "      <td>Colgate University</td>\n",
       "      <td>Liberal Arts</td>\n",
       "      <td>$52,800.00</td>\n",
       "      <td>$108,000.00</td>\n",
       "    </tr>\n",
       "  </tbody>\n",
       "</table>\n",
       "</div>"
      ],
      "text/plain": [
       "           School Name   School Type Starting Median Salary  \\\n",
       "0  Bucknell University  Liberal Arts            $54,100.00    \n",
       "1   Colgate University  Liberal Arts            $52,800.00    \n",
       "\n",
       "  Mid-Career Median Salary  \n",
       "0             $110,000.00   \n",
       "1             $108,000.00   "
      ]
     },
     "execution_count": 27,
     "metadata": {},
     "output_type": "execute_result"
    }
   ],
   "source": [
    "ueb_concat.head(2)"
   ]
  },
  {
   "cell_type": "code",
   "execution_count": 28,
   "metadata": {},
   "outputs": [],
   "source": [
    "ueb_concat['Starting Median Salary'].replace(to_replace=['$',',',''], value='', regex=True,inplace=True)"
   ]
  },
  {
   "cell_type": "code",
   "execution_count": 29,
   "metadata": {},
   "outputs": [
    {
     "data": {
      "text/plain": [
       "44469.36936936937"
      ]
     },
     "execution_count": 29,
     "metadata": {},
     "output_type": "execute_result"
    }
   ],
   "source": [
    "ueb_concat['Starting Median Salary'].str[1:-4].astype(int).mean()"
   ]
  },
  {
   "cell_type": "code",
   "execution_count": 30,
   "metadata": {},
   "outputs": [
    {
     "data": {
      "text/plain": [
       "0      110000.00 \n",
       "1      108000.00 \n",
       "2      107000.00 \n",
       "3      107000.00 \n",
       "4      107000.00 \n",
       "          ...    \n",
       "170     59200.00 \n",
       "171     58200.00 \n",
       "172     56500.00 \n",
       "173     50600.00 \n",
       "174     43900.00 \n",
       "Name: Mid-Career Median Salary, Length: 222, dtype: object"
      ]
     },
     "execution_count": 30,
     "metadata": {},
     "output_type": "execute_result"
    }
   ],
   "source": [
    "ueb_concat['Mid-Career Median Salary'].replace(to_replace='[$,]', value='', regex=True)"
   ]
  },
  {
   "cell_type": "code",
   "execution_count": 31,
   "metadata": {},
   "outputs": [],
   "source": [
    "lib2=lib.sort_values(by='Mid-Career Median Salary', ascending=False).iloc[:3,[0,3]].reset_index(drop=True)"
   ]
  },
  {
   "cell_type": "code",
   "execution_count": 32,
   "metadata": {},
   "outputs": [],
   "source": [
    "state2=state.sort_values(by='Mid-Career Median Salary', ascending=False).iloc[:3,[0,3]].reset_index(drop=True)"
   ]
  },
  {
   "cell_type": "code",
   "execution_count": 33,
   "metadata": {},
   "outputs": [
    {
     "data": {
      "text/html": [
       "<div>\n",
       "<style scoped>\n",
       "    .dataframe tbody tr th:only-of-type {\n",
       "        vertical-align: middle;\n",
       "    }\n",
       "\n",
       "    .dataframe tbody tr th {\n",
       "        vertical-align: top;\n",
       "    }\n",
       "\n",
       "    .dataframe thead tr th {\n",
       "        text-align: left;\n",
       "    }\n",
       "</style>\n",
       "<table border=\"1\" class=\"dataframe\">\n",
       "  <thead>\n",
       "    <tr>\n",
       "      <th></th>\n",
       "      <th colspan=\"2\" halign=\"left\">liberal arts</th>\n",
       "      <th colspan=\"2\" halign=\"left\">state</th>\n",
       "    </tr>\n",
       "    <tr>\n",
       "      <th></th>\n",
       "      <th>School Name</th>\n",
       "      <th>Mid-Career Median Salary</th>\n",
       "      <th>School Name</th>\n",
       "      <th>Mid-Career Median Salary</th>\n",
       "    </tr>\n",
       "  </thead>\n",
       "  <tbody>\n",
       "    <tr>\n",
       "      <th>0</th>\n",
       "      <td>Wesleyan University (Middletown, Connecticut)</td>\n",
       "      <td>$97,900.00</td>\n",
       "      <td>University of California, Davis</td>\n",
       "      <td>$99,600.00</td>\n",
       "    </tr>\n",
       "    <tr>\n",
       "      <th>1</th>\n",
       "      <td>Bates College</td>\n",
       "      <td>$96,500.00</td>\n",
       "      <td>University of Colorado - Boulder (UCB)</td>\n",
       "      <td>$97,600.00</td>\n",
       "    </tr>\n",
       "    <tr>\n",
       "      <th>2</th>\n",
       "      <td>Union College</td>\n",
       "      <td>$95,800.00</td>\n",
       "      <td>University of California, Irvine (UCI)</td>\n",
       "      <td>$96,700.00</td>\n",
       "    </tr>\n",
       "  </tbody>\n",
       "</table>\n",
       "</div>"
      ],
      "text/plain": [
       "                                    liberal arts                           \\\n",
       "                                     School Name Mid-Career Median Salary   \n",
       "0  Wesleyan University (Middletown, Connecticut)              $97,900.00    \n",
       "1                                  Bates College              $96,500.00    \n",
       "2                                  Union College              $95,800.00    \n",
       "\n",
       "                                    state                           \n",
       "                              School Name Mid-Career Median Salary  \n",
       "0         University of California, Davis              $99,600.00   \n",
       "1  University of Colorado - Boulder (UCB)              $97,600.00   \n",
       "2  University of California, Irvine (UCI)              $96,700.00   "
      ]
     },
     "execution_count": 33,
     "metadata": {},
     "output_type": "execute_result"
    }
   ],
   "source": [
    "pd.concat([lib2,state2], axis=1, keys=['liberal arts', 'state'])"
   ]
  },
  {
   "cell_type": "markdown",
   "metadata": {},
   "source": [
    "### The merge() Method"
   ]
  },
  {
   "cell_type": "markdown",
   "metadata": {},
   "source": [
    "The merge() method is very similar to SQL. This method is more flexible than concat and append method"
   ]
  },
  {
   "cell_type": "code",
   "execution_count": 34,
   "metadata": {},
   "outputs": [],
   "source": [
    "reg=pd.read_csv('Data/regions.csv')"
   ]
  },
  {
   "cell_type": "code",
   "execution_count": 35,
   "metadata": {},
   "outputs": [
    {
     "data": {
      "text/html": [
       "<div>\n",
       "<style scoped>\n",
       "    .dataframe tbody tr th:only-of-type {\n",
       "        vertical-align: middle;\n",
       "    }\n",
       "\n",
       "    .dataframe tbody tr th {\n",
       "        vertical-align: top;\n",
       "    }\n",
       "\n",
       "    .dataframe thead th {\n",
       "        text-align: right;\n",
       "    }\n",
       "</style>\n",
       "<table border=\"1\" class=\"dataframe\">\n",
       "  <thead>\n",
       "    <tr style=\"text-align: right;\">\n",
       "      <th></th>\n",
       "      <th>School Name</th>\n",
       "      <th>Region</th>\n",
       "    </tr>\n",
       "  </thead>\n",
       "  <tbody>\n",
       "    <tr>\n",
       "      <th>0</th>\n",
       "      <td>Massachusetts Institute of Technology (MIT)</td>\n",
       "      <td>Northeastern</td>\n",
       "    </tr>\n",
       "    <tr>\n",
       "      <th>1</th>\n",
       "      <td>California Institute of Technology (CIT)</td>\n",
       "      <td>California</td>\n",
       "    </tr>\n",
       "  </tbody>\n",
       "</table>\n",
       "</div>"
      ],
      "text/plain": [
       "                                   School Name        Region\n",
       "0  Massachusetts Institute of Technology (MIT)  Northeastern\n",
       "1     California Institute of Technology (CIT)    California"
      ]
     },
     "execution_count": 35,
     "metadata": {},
     "output_type": "execute_result"
    }
   ],
   "source": [
    "reg.head(2)"
   ]
  },
  {
   "cell_type": "code",
   "execution_count": 36,
   "metadata": {},
   "outputs": [
    {
     "data": {
      "text/html": [
       "<div>\n",
       "<style scoped>\n",
       "    .dataframe tbody tr th:only-of-type {\n",
       "        vertical-align: middle;\n",
       "    }\n",
       "\n",
       "    .dataframe tbody tr th {\n",
       "        vertical-align: top;\n",
       "    }\n",
       "\n",
       "    .dataframe thead th {\n",
       "        text-align: right;\n",
       "    }\n",
       "</style>\n",
       "<table border=\"1\" class=\"dataframe\">\n",
       "  <thead>\n",
       "    <tr style=\"text-align: right;\">\n",
       "      <th></th>\n",
       "      <th>School Name</th>\n",
       "      <th>School Type</th>\n",
       "      <th>Starting Median Salary</th>\n",
       "      <th>Mid-Career Median Salary</th>\n",
       "      <th>Region</th>\n",
       "    </tr>\n",
       "  </thead>\n",
       "  <tbody>\n",
       "    <tr>\n",
       "      <th>0</th>\n",
       "      <td>Massachusetts Institute of Technology (MIT)</td>\n",
       "      <td>Engineering</td>\n",
       "      <td>$72,200.00</td>\n",
       "      <td>$126,000.00</td>\n",
       "      <td>Northeastern</td>\n",
       "    </tr>\n",
       "    <tr>\n",
       "      <th>1</th>\n",
       "      <td>California Institute of Technology (CIT)</td>\n",
       "      <td>Engineering</td>\n",
       "      <td>$75,500.00</td>\n",
       "      <td>$123,000.00</td>\n",
       "      <td>California</td>\n",
       "    </tr>\n",
       "  </tbody>\n",
       "</table>\n",
       "</div>"
      ],
      "text/plain": [
       "                                   School Name  School Type  \\\n",
       "0  Massachusetts Institute of Technology (MIT)  Engineering   \n",
       "1     California Institute of Technology (CIT)  Engineering   \n",
       "\n",
       "  Starting Median Salary Mid-Career Median Salary        Region  \n",
       "0            $72,200.00              $126,000.00   Northeastern  \n",
       "1            $75,500.00              $123,000.00     California  "
      ]
     },
     "execution_count": 36,
     "metadata": {},
     "output_type": "execute_result"
    }
   ],
   "source": [
    "pd.merge(df,reg).head(2)"
   ]
  },
  {
   "cell_type": "markdown",
   "metadata": {},
   "source": [
    "The merging automatically happend by 'School Name', which happens to be the only column that present in both dataframes"
   ]
  },
  {
   "cell_type": "markdown",
   "metadata": {},
   "source": [
    "### The left_on and right_on Parameters"
   ]
  },
  {
   "cell_type": "code",
   "execution_count": 37,
   "metadata": {},
   "outputs": [],
   "source": [
    "sal=pd.read_csv('Data/mid_career_salaries.csv')"
   ]
  },
  {
   "cell_type": "code",
   "execution_count": 38,
   "metadata": {},
   "outputs": [
    {
     "data": {
      "text/html": [
       "<div>\n",
       "<style scoped>\n",
       "    .dataframe tbody tr th:only-of-type {\n",
       "        vertical-align: middle;\n",
       "    }\n",
       "\n",
       "    .dataframe tbody tr th {\n",
       "        vertical-align: top;\n",
       "    }\n",
       "\n",
       "    .dataframe thead th {\n",
       "        text-align: right;\n",
       "    }\n",
       "</style>\n",
       "<table border=\"1\" class=\"dataframe\">\n",
       "  <thead>\n",
       "    <tr style=\"text-align: right;\">\n",
       "      <th></th>\n",
       "      <th>school_name</th>\n",
       "      <th>Mid-Career 10th Percentile Salary</th>\n",
       "      <th>Mid-Career 25th Percentile Salary</th>\n",
       "      <th>Mid-Career 75th Percentile Salary</th>\n",
       "      <th>Mid-Career 90th Percentile Salary</th>\n",
       "    </tr>\n",
       "  </thead>\n",
       "  <tbody>\n",
       "    <tr>\n",
       "      <th>0</th>\n",
       "      <td>Massachusetts Institute of Technology (MIT)</td>\n",
       "      <td>$76,800.00</td>\n",
       "      <td>$99,200.00</td>\n",
       "      <td>$168,000.00</td>\n",
       "      <td>$220,000.00</td>\n",
       "    </tr>\n",
       "    <tr>\n",
       "      <th>1</th>\n",
       "      <td>California Institute of Technology (CIT)</td>\n",
       "      <td>NaN</td>\n",
       "      <td>$104,000.00</td>\n",
       "      <td>$161,000.00</td>\n",
       "      <td>NaN</td>\n",
       "    </tr>\n",
       "  </tbody>\n",
       "</table>\n",
       "</div>"
      ],
      "text/plain": [
       "                                   school_name  \\\n",
       "0  Massachusetts Institute of Technology (MIT)   \n",
       "1     California Institute of Technology (CIT)   \n",
       "\n",
       "  Mid-Career 10th Percentile Salary Mid-Career 25th Percentile Salary  \\\n",
       "0                       $76,800.00                        $99,200.00    \n",
       "1                               NaN                      $104,000.00    \n",
       "\n",
       "  Mid-Career 75th Percentile Salary Mid-Career 90th Percentile Salary  \n",
       "0                      $168,000.00                       $220,000.00   \n",
       "1                      $161,000.00                                NaN  "
      ]
     },
     "execution_count": 38,
     "metadata": {},
     "output_type": "execute_result"
    }
   ],
   "source": [
    "sal.head(2)"
   ]
  },
  {
   "cell_type": "code",
   "execution_count": 39,
   "metadata": {},
   "outputs": [
    {
     "data": {
      "text/plain": [
       "(269, 9)"
      ]
     },
     "execution_count": 39,
     "metadata": {},
     "output_type": "execute_result"
    }
   ],
   "source": [
    "df.merge(sal, right_on='school_name', left_on='School Name').shape"
   ]
  },
  {
   "cell_type": "code",
   "execution_count": 40,
   "metadata": {},
   "outputs": [
    {
     "data": {
      "text/html": [
       "<div>\n",
       "<style scoped>\n",
       "    .dataframe tbody tr th:only-of-type {\n",
       "        vertical-align: middle;\n",
       "    }\n",
       "\n",
       "    .dataframe tbody tr th {\n",
       "        vertical-align: top;\n",
       "    }\n",
       "\n",
       "    .dataframe thead th {\n",
       "        text-align: right;\n",
       "    }\n",
       "</style>\n",
       "<table border=\"1\" class=\"dataframe\">\n",
       "  <thead>\n",
       "    <tr style=\"text-align: right;\">\n",
       "      <th></th>\n",
       "      <th>School Name</th>\n",
       "      <th>School Type</th>\n",
       "      <th>Starting Median Salary</th>\n",
       "      <th>Mid-Career Median Salary</th>\n",
       "      <th>Mid-Career 10th Percentile Salary</th>\n",
       "      <th>Mid-Career 25th Percentile Salary</th>\n",
       "      <th>Mid-Career 75th Percentile Salary</th>\n",
       "      <th>Mid-Career 90th Percentile Salary</th>\n",
       "    </tr>\n",
       "  </thead>\n",
       "  <tbody>\n",
       "    <tr>\n",
       "      <th>0</th>\n",
       "      <td>Massachusetts Institute of Technology (MIT)</td>\n",
       "      <td>Engineering</td>\n",
       "      <td>$72,200.00</td>\n",
       "      <td>$126,000.00</td>\n",
       "      <td>$76,800.00</td>\n",
       "      <td>$99,200.00</td>\n",
       "      <td>$168,000.00</td>\n",
       "      <td>$220,000.00</td>\n",
       "    </tr>\n",
       "    <tr>\n",
       "      <th>1</th>\n",
       "      <td>California Institute of Technology (CIT)</td>\n",
       "      <td>Engineering</td>\n",
       "      <td>$75,500.00</td>\n",
       "      <td>$123,000.00</td>\n",
       "      <td>NaN</td>\n",
       "      <td>$104,000.00</td>\n",
       "      <td>$161,000.00</td>\n",
       "      <td>NaN</td>\n",
       "    </tr>\n",
       "  </tbody>\n",
       "</table>\n",
       "</div>"
      ],
      "text/plain": [
       "                                   School Name  School Type  \\\n",
       "0  Massachusetts Institute of Technology (MIT)  Engineering   \n",
       "1     California Institute of Technology (CIT)  Engineering   \n",
       "\n",
       "  Starting Median Salary Mid-Career Median Salary  \\\n",
       "0            $72,200.00              $126,000.00    \n",
       "1            $75,500.00              $123,000.00    \n",
       "\n",
       "  Mid-Career 10th Percentile Salary Mid-Career 25th Percentile Salary  \\\n",
       "0                       $76,800.00                        $99,200.00    \n",
       "1                               NaN                      $104,000.00    \n",
       "\n",
       "  Mid-Career 75th Percentile Salary Mid-Career 90th Percentile Salary  \n",
       "0                      $168,000.00                       $220,000.00   \n",
       "1                      $161,000.00                                NaN  "
      ]
     },
     "execution_count": 40,
     "metadata": {},
     "output_type": "execute_result"
    }
   ],
   "source": [
    "df.merge(sal, right_on='school_name', left_on='School Name').drop(columns=['school_name']).head(2)"
   ]
  },
  {
   "cell_type": "markdown",
   "metadata": {},
   "source": [
    "### Inner vs Outer Joins"
   ]
  },
  {
   "cell_type": "markdown",
   "metadata": {},
   "source": [
    "how='inner':\n",
    "- only the common keys are selected\n",
    "- similar to set intersection"
   ]
  },
  {
   "cell_type": "markdown",
   "metadata": {},
   "source": [
    "how='outer':\n",
    "- all keys are selected\n",
    "- similar to set union"
   ]
  },
  {
   "cell_type": "code",
   "execution_count": 41,
   "metadata": {},
   "outputs": [
    {
     "data": {
      "text/html": [
       "<div>\n",
       "<style scoped>\n",
       "    .dataframe tbody tr th:only-of-type {\n",
       "        vertical-align: middle;\n",
       "    }\n",
       "\n",
       "    .dataframe tbody tr th {\n",
       "        vertical-align: top;\n",
       "    }\n",
       "\n",
       "    .dataframe thead th {\n",
       "        text-align: right;\n",
       "    }\n",
       "</style>\n",
       "<table border=\"1\" class=\"dataframe\">\n",
       "  <thead>\n",
       "    <tr style=\"text-align: right;\">\n",
       "      <th></th>\n",
       "      <th>School Name</th>\n",
       "      <th>School Type</th>\n",
       "      <th>Starting Median Salary</th>\n",
       "      <th>Mid-Career Median Salary</th>\n",
       "      <th>Region</th>\n",
       "    </tr>\n",
       "  </thead>\n",
       "  <tbody>\n",
       "    <tr>\n",
       "      <th>0</th>\n",
       "      <td>Dartmouth College</td>\n",
       "      <td>Ivy League</td>\n",
       "      <td>$58,000.00</td>\n",
       "      <td>$134,000.00</td>\n",
       "      <td>Northeastern</td>\n",
       "    </tr>\n",
       "    <tr>\n",
       "      <th>1</th>\n",
       "      <td>Princeton University</td>\n",
       "      <td>Ivy League</td>\n",
       "      <td>$66,500.00</td>\n",
       "      <td>$131,000.00</td>\n",
       "      <td>Northeastern</td>\n",
       "    </tr>\n",
       "  </tbody>\n",
       "</table>\n",
       "</div>"
      ],
      "text/plain": [
       "            School Name School Type Starting Median Salary  \\\n",
       "0     Dartmouth College  Ivy League            $58,000.00    \n",
       "1  Princeton University  Ivy League            $66,500.00    \n",
       "\n",
       "  Mid-Career Median Salary        Region  \n",
       "0             $134,000.00   Northeastern  \n",
       "1             $131,000.00   Northeastern  "
      ]
     },
     "execution_count": 41,
     "metadata": {},
     "output_type": "execute_result"
    }
   ],
   "source": [
    "ivies.merge(reg, how='inner').head(2)\n",
    "#pd.merge(ivies,reg, how='inner') #this syntax works too"
   ]
  },
  {
   "cell_type": "code",
   "execution_count": 42,
   "metadata": {},
   "outputs": [],
   "source": [
    "a={1,2,3}\n",
    "b={3,4,5}"
   ]
  },
  {
   "cell_type": "code",
   "execution_count": 43,
   "metadata": {},
   "outputs": [
    {
     "data": {
      "text/plain": [
       "{1, 2, 3, 4, 5}"
      ]
     },
     "execution_count": 43,
     "metadata": {},
     "output_type": "execute_result"
    }
   ],
   "source": [
    "a.union(b)"
   ]
  },
  {
   "cell_type": "code",
   "execution_count": 44,
   "metadata": {},
   "outputs": [
    {
     "data": {
      "text/plain": [
       "{3}"
      ]
     },
     "execution_count": 44,
     "metadata": {},
     "output_type": "execute_result"
    }
   ],
   "source": [
    "a.intersection(b)"
   ]
  },
  {
   "cell_type": "markdown",
   "metadata": {},
   "source": [
    "### Left vs Right Joins"
   ]
  },
  {
   "cell_type": "code",
   "execution_count": 45,
   "metadata": {},
   "outputs": [
    {
     "data": {
      "text/html": [
       "<div>\n",
       "<style scoped>\n",
       "    .dataframe tbody tr th:only-of-type {\n",
       "        vertical-align: middle;\n",
       "    }\n",
       "\n",
       "    .dataframe tbody tr th {\n",
       "        vertical-align: top;\n",
       "    }\n",
       "\n",
       "    .dataframe thead th {\n",
       "        text-align: right;\n",
       "    }\n",
       "</style>\n",
       "<table border=\"1\" class=\"dataframe\">\n",
       "  <thead>\n",
       "    <tr style=\"text-align: right;\">\n",
       "      <th></th>\n",
       "      <th>School Name</th>\n",
       "      <th>School Type</th>\n",
       "      <th>Starting Median Salary</th>\n",
       "      <th>Mid-Career Median Salary</th>\n",
       "      <th>Region</th>\n",
       "    </tr>\n",
       "  </thead>\n",
       "  <tbody>\n",
       "    <tr>\n",
       "      <th>0</th>\n",
       "      <td>Dartmouth College</td>\n",
       "      <td>Ivy League</td>\n",
       "      <td>$58,000.00</td>\n",
       "      <td>$134,000.00</td>\n",
       "      <td>Northeastern</td>\n",
       "    </tr>\n",
       "    <tr>\n",
       "      <th>1</th>\n",
       "      <td>Princeton University</td>\n",
       "      <td>Ivy League</td>\n",
       "      <td>$66,500.00</td>\n",
       "      <td>$131,000.00</td>\n",
       "      <td>Northeastern</td>\n",
       "    </tr>\n",
       "    <tr>\n",
       "      <th>2</th>\n",
       "      <td>Yale University</td>\n",
       "      <td>Ivy League</td>\n",
       "      <td>$59,100.00</td>\n",
       "      <td>$126,000.00</td>\n",
       "      <td>Northeastern</td>\n",
       "    </tr>\n",
       "    <tr>\n",
       "      <th>3</th>\n",
       "      <td>Harvard University</td>\n",
       "      <td>Ivy League</td>\n",
       "      <td>$63,400.00</td>\n",
       "      <td>$124,000.00</td>\n",
       "      <td>Northeastern</td>\n",
       "    </tr>\n",
       "    <tr>\n",
       "      <th>4</th>\n",
       "      <td>University of Pennsylvania</td>\n",
       "      <td>Ivy League</td>\n",
       "      <td>$60,900.00</td>\n",
       "      <td>$120,000.00</td>\n",
       "      <td>Northeastern</td>\n",
       "    </tr>\n",
       "  </tbody>\n",
       "</table>\n",
       "</div>"
      ],
      "text/plain": [
       "                  School Name School Type Starting Median Salary  \\\n",
       "0           Dartmouth College  Ivy League            $58,000.00    \n",
       "1        Princeton University  Ivy League            $66,500.00    \n",
       "2             Yale University  Ivy League            $59,100.00    \n",
       "3          Harvard University  Ivy League            $63,400.00    \n",
       "4  University of Pennsylvania  Ivy League            $60,900.00    \n",
       "\n",
       "  Mid-Career Median Salary        Region  \n",
       "0             $134,000.00   Northeastern  \n",
       "1             $131,000.00   Northeastern  \n",
       "2             $126,000.00   Northeastern  \n",
       "3             $124,000.00   Northeastern  \n",
       "4             $120,000.00   Northeastern  "
      ]
     },
     "execution_count": 45,
     "metadata": {},
     "output_type": "execute_result"
    }
   ],
   "source": [
    "pd.merge(ivies, reg, how='left').head()"
   ]
  },
  {
   "cell_type": "markdown",
   "metadata": {},
   "source": [
    "### One-to-One vs One-to-Many Joins"
   ]
  },
  {
   "cell_type": "markdown",
   "metadata": {},
   "source": [
    "One-to-One joins:\n",
    "--> happens when each record in a dataframe is asscicated with one record in another dataset"
   ]
  },
  {
   "cell_type": "markdown",
   "metadata": {},
   "source": [
    "One-to-Many joins --> wether we have duplicates in the respective key columns for the keys selected by the inner join operation"
   ]
  },
  {
   "cell_type": "markdown",
   "metadata": {},
   "source": [
    "### Many-to-Many joins"
   ]
  },
  {
   "cell_type": "markdown",
   "metadata": {},
   "source": [
    "This occurs when we have duplicates in the key columns from both the left and right object that are being merged"
   ]
  },
  {
   "cell_type": "code",
   "execution_count": 58,
   "metadata": {},
   "outputs": [
    {
     "data": {
      "text/html": [
       "<div>\n",
       "<style scoped>\n",
       "    .dataframe tbody tr th:only-of-type {\n",
       "        vertical-align: middle;\n",
       "    }\n",
       "\n",
       "    .dataframe tbody tr th {\n",
       "        vertical-align: top;\n",
       "    }\n",
       "\n",
       "    .dataframe thead th {\n",
       "        text-align: right;\n",
       "    }\n",
       "</style>\n",
       "<table border=\"1\" class=\"dataframe\">\n",
       "  <thead>\n",
       "    <tr style=\"text-align: right;\">\n",
       "      <th></th>\n",
       "      <th>School Type</th>\n",
       "      <th>Prestige</th>\n",
       "      <th>Respondent</th>\n",
       "    </tr>\n",
       "  </thead>\n",
       "  <tbody>\n",
       "    <tr>\n",
       "      <th>0</th>\n",
       "      <td>Ivy League</td>\n",
       "      <td>High</td>\n",
       "      <td>1</td>\n",
       "    </tr>\n",
       "    <tr>\n",
       "      <th>1</th>\n",
       "      <td>Ivy League</td>\n",
       "      <td>Good</td>\n",
       "      <td>2</td>\n",
       "    </tr>\n",
       "    <tr>\n",
       "      <th>2</th>\n",
       "      <td>Engineering</td>\n",
       "      <td>Good</td>\n",
       "      <td>3</td>\n",
       "    </tr>\n",
       "    <tr>\n",
       "      <th>3</th>\n",
       "      <td>Engineering</td>\n",
       "      <td>Okay</td>\n",
       "      <td>4</td>\n",
       "    </tr>\n",
       "  </tbody>\n",
       "</table>\n",
       "</div>"
      ],
      "text/plain": [
       "   School Type Prestige  Respondent\n",
       "0   Ivy League     High           1\n",
       "1   Ivy League     Good           2\n",
       "2  Engineering     Good           3\n",
       "3  Engineering     Okay           4"
      ]
     },
     "execution_count": 58,
     "metadata": {},
     "output_type": "execute_result"
    }
   ],
   "source": [
    "survey = pd.DataFrame({\n",
    "    'School Type': ['Ivy League', 'Ivy League', 'Engineering', 'Engineering'],\n",
    "    'Prestige':['High', 'Good', 'Good', 'Okay'],\n",
    "    'Respondent':[1,2,3,4]\n",
    "})\n",
    "survey"
   ]
  },
  {
   "cell_type": "code",
   "execution_count": 59,
   "metadata": {},
   "outputs": [
    {
     "data": {
      "text/html": [
       "<div>\n",
       "<style scoped>\n",
       "    .dataframe tbody tr th:only-of-type {\n",
       "        vertical-align: middle;\n",
       "    }\n",
       "\n",
       "    .dataframe tbody tr th {\n",
       "        vertical-align: top;\n",
       "    }\n",
       "\n",
       "    .dataframe thead th {\n",
       "        text-align: right;\n",
       "    }\n",
       "</style>\n",
       "<table border=\"1\" class=\"dataframe\">\n",
       "  <thead>\n",
       "    <tr style=\"text-align: right;\">\n",
       "      <th></th>\n",
       "      <th>School Name</th>\n",
       "      <th>School Type</th>\n",
       "      <th>Starting Median Salary</th>\n",
       "      <th>Mid-Career Median Salary</th>\n",
       "    </tr>\n",
       "  </thead>\n",
       "  <tbody>\n",
       "    <tr>\n",
       "      <th>0</th>\n",
       "      <td>Dartmouth College</td>\n",
       "      <td>Ivy League</td>\n",
       "      <td>$58,000.00</td>\n",
       "      <td>$134,000.00</td>\n",
       "    </tr>\n",
       "    <tr>\n",
       "      <th>1</th>\n",
       "      <td>Princeton University</td>\n",
       "      <td>Ivy League</td>\n",
       "      <td>$66,500.00</td>\n",
       "      <td>$131,000.00</td>\n",
       "    </tr>\n",
       "    <tr>\n",
       "      <th>2</th>\n",
       "      <td>Yale University</td>\n",
       "      <td>Ivy League</td>\n",
       "      <td>$59,100.00</td>\n",
       "      <td>$126,000.00</td>\n",
       "    </tr>\n",
       "    <tr>\n",
       "      <th>3</th>\n",
       "      <td>Harvard University</td>\n",
       "      <td>Ivy League</td>\n",
       "      <td>$63,400.00</td>\n",
       "      <td>$124,000.00</td>\n",
       "    </tr>\n",
       "    <tr>\n",
       "      <th>4</th>\n",
       "      <td>University of Pennsylvania</td>\n",
       "      <td>Ivy League</td>\n",
       "      <td>$60,900.00</td>\n",
       "      <td>$120,000.00</td>\n",
       "    </tr>\n",
       "  </tbody>\n",
       "</table>\n",
       "</div>"
      ],
      "text/plain": [
       "                  School Name School Type Starting Median Salary  \\\n",
       "0           Dartmouth College  Ivy League            $58,000.00    \n",
       "1        Princeton University  Ivy League            $66,500.00    \n",
       "2             Yale University  Ivy League            $59,100.00    \n",
       "3          Harvard University  Ivy League            $63,400.00    \n",
       "4  University of Pennsylvania  Ivy League            $60,900.00    \n",
       "\n",
       "  Mid-Career Median Salary  \n",
       "0             $134,000.00   \n",
       "1             $131,000.00   \n",
       "2             $126,000.00   \n",
       "3             $124,000.00   \n",
       "4             $120,000.00   "
      ]
     },
     "execution_count": 59,
     "metadata": {},
     "output_type": "execute_result"
    }
   ],
   "source": [
    "ivies.head()"
   ]
  },
  {
   "cell_type": "markdown",
   "metadata": {},
   "source": [
    "Now we want to merge these two dataframes - survey and ivies"
   ]
  },
  {
   "cell_type": "markdown",
   "metadata": {},
   "source": [
    "Notice in one thing that the 'School Type' column contain duplicate for both objects. Merging these two dataframes will produce many-to-many joins"
   ]
  },
  {
   "cell_type": "code",
   "execution_count": 60,
   "metadata": {},
   "outputs": [
    {
     "name": "stdout",
     "output_type": "stream",
     "text": [
      "survey: (4, 3)\n",
      "ivies: (8, 4)\n"
     ]
    }
   ],
   "source": [
    "print(f'survey: {survey.shape}')\n",
    "print(f'ivies: {ivies.shape}')"
   ]
  },
  {
   "cell_type": "code",
   "execution_count": 63,
   "metadata": {},
   "outputs": [
    {
     "data": {
      "text/html": [
       "<div>\n",
       "<style scoped>\n",
       "    .dataframe tbody tr th:only-of-type {\n",
       "        vertical-align: middle;\n",
       "    }\n",
       "\n",
       "    .dataframe tbody tr th {\n",
       "        vertical-align: top;\n",
       "    }\n",
       "\n",
       "    .dataframe thead th {\n",
       "        text-align: right;\n",
       "    }\n",
       "</style>\n",
       "<table border=\"1\" class=\"dataframe\">\n",
       "  <thead>\n",
       "    <tr style=\"text-align: right;\">\n",
       "      <th></th>\n",
       "      <th>School Name</th>\n",
       "      <th>School Type</th>\n",
       "      <th>Starting Median Salary</th>\n",
       "      <th>Mid-Career Median Salary</th>\n",
       "      <th>Prestige</th>\n",
       "      <th>Respondent</th>\n",
       "    </tr>\n",
       "  </thead>\n",
       "  <tbody>\n",
       "    <tr>\n",
       "      <th>0</th>\n",
       "      <td>Dartmouth College</td>\n",
       "      <td>Ivy League</td>\n",
       "      <td>$58,000.00</td>\n",
       "      <td>$134,000.00</td>\n",
       "      <td>High</td>\n",
       "      <td>1</td>\n",
       "    </tr>\n",
       "    <tr>\n",
       "      <th>1</th>\n",
       "      <td>Dartmouth College</td>\n",
       "      <td>Ivy League</td>\n",
       "      <td>$58,000.00</td>\n",
       "      <td>$134,000.00</td>\n",
       "      <td>Good</td>\n",
       "      <td>2</td>\n",
       "    </tr>\n",
       "    <tr>\n",
       "      <th>2</th>\n",
       "      <td>Princeton University</td>\n",
       "      <td>Ivy League</td>\n",
       "      <td>$66,500.00</td>\n",
       "      <td>$131,000.00</td>\n",
       "      <td>High</td>\n",
       "      <td>1</td>\n",
       "    </tr>\n",
       "    <tr>\n",
       "      <th>3</th>\n",
       "      <td>Princeton University</td>\n",
       "      <td>Ivy League</td>\n",
       "      <td>$66,500.00</td>\n",
       "      <td>$131,000.00</td>\n",
       "      <td>Good</td>\n",
       "      <td>2</td>\n",
       "    </tr>\n",
       "    <tr>\n",
       "      <th>4</th>\n",
       "      <td>Yale University</td>\n",
       "      <td>Ivy League</td>\n",
       "      <td>$59,100.00</td>\n",
       "      <td>$126,000.00</td>\n",
       "      <td>High</td>\n",
       "      <td>1</td>\n",
       "    </tr>\n",
       "    <tr>\n",
       "      <th>5</th>\n",
       "      <td>Yale University</td>\n",
       "      <td>Ivy League</td>\n",
       "      <td>$59,100.00</td>\n",
       "      <td>$126,000.00</td>\n",
       "      <td>Good</td>\n",
       "      <td>2</td>\n",
       "    </tr>\n",
       "    <tr>\n",
       "      <th>6</th>\n",
       "      <td>Harvard University</td>\n",
       "      <td>Ivy League</td>\n",
       "      <td>$63,400.00</td>\n",
       "      <td>$124,000.00</td>\n",
       "      <td>High</td>\n",
       "      <td>1</td>\n",
       "    </tr>\n",
       "    <tr>\n",
       "      <th>7</th>\n",
       "      <td>Harvard University</td>\n",
       "      <td>Ivy League</td>\n",
       "      <td>$63,400.00</td>\n",
       "      <td>$124,000.00</td>\n",
       "      <td>Good</td>\n",
       "      <td>2</td>\n",
       "    </tr>\n",
       "    <tr>\n",
       "      <th>8</th>\n",
       "      <td>University of Pennsylvania</td>\n",
       "      <td>Ivy League</td>\n",
       "      <td>$60,900.00</td>\n",
       "      <td>$120,000.00</td>\n",
       "      <td>High</td>\n",
       "      <td>1</td>\n",
       "    </tr>\n",
       "    <tr>\n",
       "      <th>9</th>\n",
       "      <td>University of Pennsylvania</td>\n",
       "      <td>Ivy League</td>\n",
       "      <td>$60,900.00</td>\n",
       "      <td>$120,000.00</td>\n",
       "      <td>Good</td>\n",
       "      <td>2</td>\n",
       "    </tr>\n",
       "    <tr>\n",
       "      <th>10</th>\n",
       "      <td>Cornell University</td>\n",
       "      <td>Ivy League</td>\n",
       "      <td>$60,300.00</td>\n",
       "      <td>$110,000.00</td>\n",
       "      <td>High</td>\n",
       "      <td>1</td>\n",
       "    </tr>\n",
       "    <tr>\n",
       "      <th>11</th>\n",
       "      <td>Cornell University</td>\n",
       "      <td>Ivy League</td>\n",
       "      <td>$60,300.00</td>\n",
       "      <td>$110,000.00</td>\n",
       "      <td>Good</td>\n",
       "      <td>2</td>\n",
       "    </tr>\n",
       "    <tr>\n",
       "      <th>12</th>\n",
       "      <td>Brown University</td>\n",
       "      <td>Ivy League</td>\n",
       "      <td>$56,200.00</td>\n",
       "      <td>$109,000.00</td>\n",
       "      <td>High</td>\n",
       "      <td>1</td>\n",
       "    </tr>\n",
       "    <tr>\n",
       "      <th>13</th>\n",
       "      <td>Brown University</td>\n",
       "      <td>Ivy League</td>\n",
       "      <td>$56,200.00</td>\n",
       "      <td>$109,000.00</td>\n",
       "      <td>Good</td>\n",
       "      <td>2</td>\n",
       "    </tr>\n",
       "    <tr>\n",
       "      <th>14</th>\n",
       "      <td>Columbia University</td>\n",
       "      <td>Ivy League</td>\n",
       "      <td>$59,400.00</td>\n",
       "      <td>$107,000.00</td>\n",
       "      <td>High</td>\n",
       "      <td>1</td>\n",
       "    </tr>\n",
       "    <tr>\n",
       "      <th>15</th>\n",
       "      <td>Columbia University</td>\n",
       "      <td>Ivy League</td>\n",
       "      <td>$59,400.00</td>\n",
       "      <td>$107,000.00</td>\n",
       "      <td>Good</td>\n",
       "      <td>2</td>\n",
       "    </tr>\n",
       "  </tbody>\n",
       "</table>\n",
       "</div>"
      ],
      "text/plain": [
       "                   School Name School Type Starting Median Salary  \\\n",
       "0            Dartmouth College  Ivy League            $58,000.00    \n",
       "1            Dartmouth College  Ivy League            $58,000.00    \n",
       "2         Princeton University  Ivy League            $66,500.00    \n",
       "3         Princeton University  Ivy League            $66,500.00    \n",
       "4              Yale University  Ivy League            $59,100.00    \n",
       "5              Yale University  Ivy League            $59,100.00    \n",
       "6           Harvard University  Ivy League            $63,400.00    \n",
       "7           Harvard University  Ivy League            $63,400.00    \n",
       "8   University of Pennsylvania  Ivy League            $60,900.00    \n",
       "9   University of Pennsylvania  Ivy League            $60,900.00    \n",
       "10          Cornell University  Ivy League            $60,300.00    \n",
       "11          Cornell University  Ivy League            $60,300.00    \n",
       "12            Brown University  Ivy League            $56,200.00    \n",
       "13            Brown University  Ivy League            $56,200.00    \n",
       "14         Columbia University  Ivy League            $59,400.00    \n",
       "15         Columbia University  Ivy League            $59,400.00    \n",
       "\n",
       "   Mid-Career Median Salary Prestige  Respondent  \n",
       "0              $134,000.00      High           1  \n",
       "1              $134,000.00      Good           2  \n",
       "2              $131,000.00      High           1  \n",
       "3              $131,000.00      Good           2  \n",
       "4              $126,000.00      High           1  \n",
       "5              $126,000.00      Good           2  \n",
       "6              $124,000.00      High           1  \n",
       "7              $124,000.00      Good           2  \n",
       "8              $120,000.00      High           1  \n",
       "9              $120,000.00      Good           2  \n",
       "10             $110,000.00      High           1  \n",
       "11             $110,000.00      Good           2  \n",
       "12             $109,000.00      High           1  \n",
       "13             $109,000.00      Good           2  \n",
       "14             $107,000.00      High           1  \n",
       "15             $107,000.00      Good           2  "
      ]
     },
     "execution_count": 63,
     "metadata": {},
     "output_type": "execute_result"
    }
   ],
   "source": [
    "pd.merge(ivies,survey)"
   ]
  },
  {
   "cell_type": "markdown",
   "metadata": {},
   "source": [
    "In the survey dataframe we got two records for ivy league. In order to accomodate the survey data, each record that contains the ivy league school type is repeated. This repeated so many times as there are duplicates on the key column"
   ]
  },
  {
   "cell_type": "markdown",
   "metadata": {},
   "source": [
    "Let's try to add more ivy league on the survey data"
   ]
  },
  {
   "cell_type": "code",
   "execution_count": 67,
   "metadata": {},
   "outputs": [],
   "source": [
    "survey = survey.append(pd.Series({'School Type':'Ivy League', 'Prestige': 'Very High', 'Respondent':5}, name=4))"
   ]
  },
  {
   "cell_type": "markdown",
   "metadata": {},
   "source": [
    "Without name (or index in this example) it will thorw an error"
   ]
  },
  {
   "cell_type": "code",
   "execution_count": 68,
   "metadata": {},
   "outputs": [
    {
     "data": {
      "text/plain": [
       "(24, 6)"
      ]
     },
     "execution_count": 68,
     "metadata": {},
     "output_type": "execute_result"
    }
   ],
   "source": [
    "pd.merge(ivies,survey).shape"
   ]
  },
  {
   "cell_type": "markdown",
   "metadata": {},
   "source": [
    "Now the merged dataframe contains three times more data than the original ivies dataframe"
   ]
  },
  {
   "cell_type": "markdown",
   "metadata": {},
   "source": [
    "### Join Cardinalities"
   ]
  },
  {
   "cell_type": "markdown",
   "metadata": {},
   "source": [
    "1 -> 1:\n",
    "eg: person <-> DNA\n",
    "- Dual sided uniques: both merge objects contain unique values in the respective key\n",
    "\n",
    "1 -> M:\n",
    "eg: book - pages\n",
    "- One of the merge objects contain non-unique values\n",
    "- In the resulting pd.merge() the records are repeated M times\n",
    "\n",
    "M -> M:\n",
    "eg: book - autor\n",
    "- Both merge objects contain non-unique values\n",
    "- In the resulting pd.merge() the records are repeated M x M times"
   ]
  },
  {
   "cell_type": "markdown",
   "metadata": {},
   "source": [
    "### Merging by Index"
   ]
  },
  {
   "cell_type": "code",
   "execution_count": 52,
   "metadata": {},
   "outputs": [],
   "source": [
    "ivies4=ivies.set_index('School Name')"
   ]
  },
  {
   "cell_type": "code",
   "execution_count": 53,
   "metadata": {},
   "outputs": [],
   "source": [
    "reg2=reg.set_index('School Name')"
   ]
  },
  {
   "cell_type": "code",
   "execution_count": 71,
   "metadata": {},
   "outputs": [
    {
     "data": {
      "text/plain": [
       "(8, 4)"
      ]
     },
     "execution_count": 71,
     "metadata": {},
     "output_type": "execute_result"
    }
   ],
   "source": [
    "ivies4.merge(reg2, left_index=True, right_index=True).shape"
   ]
  },
  {
   "cell_type": "code",
   "execution_count": 55,
   "metadata": {},
   "outputs": [
    {
     "data": {
      "text/html": [
       "<div>\n",
       "<style scoped>\n",
       "    .dataframe tbody tr th:only-of-type {\n",
       "        vertical-align: middle;\n",
       "    }\n",
       "\n",
       "    .dataframe tbody tr th {\n",
       "        vertical-align: top;\n",
       "    }\n",
       "\n",
       "    .dataframe thead th {\n",
       "        text-align: right;\n",
       "    }\n",
       "</style>\n",
       "<table border=\"1\" class=\"dataframe\">\n",
       "  <thead>\n",
       "    <tr style=\"text-align: right;\">\n",
       "      <th></th>\n",
       "      <th>School Type</th>\n",
       "      <th>Starting Median Salary</th>\n",
       "      <th>Mid-Career Median Salary</th>\n",
       "      <th>School Name</th>\n",
       "      <th>Region</th>\n",
       "    </tr>\n",
       "  </thead>\n",
       "  <tbody>\n",
       "    <tr>\n",
       "      <th>86</th>\n",
       "      <td>Ivy League</td>\n",
       "      <td>$58,000.00</td>\n",
       "      <td>$134,000.00</td>\n",
       "      <td>Dartmouth College</td>\n",
       "      <td>Northeastern</td>\n",
       "    </tr>\n",
       "    <tr>\n",
       "      <th>87</th>\n",
       "      <td>Ivy League</td>\n",
       "      <td>$66,500.00</td>\n",
       "      <td>$131,000.00</td>\n",
       "      <td>Princeton University</td>\n",
       "      <td>Northeastern</td>\n",
       "    </tr>\n",
       "    <tr>\n",
       "      <th>88</th>\n",
       "      <td>Ivy League</td>\n",
       "      <td>$59,100.00</td>\n",
       "      <td>$126,000.00</td>\n",
       "      <td>Yale University</td>\n",
       "      <td>Northeastern</td>\n",
       "    </tr>\n",
       "    <tr>\n",
       "      <th>89</th>\n",
       "      <td>Ivy League</td>\n",
       "      <td>$63,400.00</td>\n",
       "      <td>$124,000.00</td>\n",
       "      <td>Harvard University</td>\n",
       "      <td>Northeastern</td>\n",
       "    </tr>\n",
       "    <tr>\n",
       "      <th>90</th>\n",
       "      <td>Ivy League</td>\n",
       "      <td>$60,900.00</td>\n",
       "      <td>$120,000.00</td>\n",
       "      <td>University of Pennsylvania</td>\n",
       "      <td>Northeastern</td>\n",
       "    </tr>\n",
       "    <tr>\n",
       "      <th>91</th>\n",
       "      <td>Ivy League</td>\n",
       "      <td>$60,300.00</td>\n",
       "      <td>$110,000.00</td>\n",
       "      <td>Cornell University</td>\n",
       "      <td>Northeastern</td>\n",
       "    </tr>\n",
       "    <tr>\n",
       "      <th>92</th>\n",
       "      <td>Ivy League</td>\n",
       "      <td>$56,200.00</td>\n",
       "      <td>$109,000.00</td>\n",
       "      <td>Brown University</td>\n",
       "      <td>Northeastern</td>\n",
       "    </tr>\n",
       "    <tr>\n",
       "      <th>93</th>\n",
       "      <td>Ivy League</td>\n",
       "      <td>$59,400.00</td>\n",
       "      <td>$107,000.00</td>\n",
       "      <td>Columbia University</td>\n",
       "      <td>Northeastern</td>\n",
       "    </tr>\n",
       "  </tbody>\n",
       "</table>\n",
       "</div>"
      ],
      "text/plain": [
       "   School Type Starting Median Salary Mid-Career Median Salary  \\\n",
       "86  Ivy League            $58,000.00              $134,000.00    \n",
       "87  Ivy League            $66,500.00              $131,000.00    \n",
       "88  Ivy League            $59,100.00              $126,000.00    \n",
       "89  Ivy League            $63,400.00              $124,000.00    \n",
       "90  Ivy League            $60,900.00              $120,000.00    \n",
       "91  Ivy League            $60,300.00              $110,000.00    \n",
       "92  Ivy League            $56,200.00              $109,000.00    \n",
       "93  Ivy League            $59,400.00              $107,000.00    \n",
       "\n",
       "                   School Name        Region  \n",
       "86           Dartmouth College  Northeastern  \n",
       "87        Princeton University  Northeastern  \n",
       "88             Yale University  Northeastern  \n",
       "89          Harvard University  Northeastern  \n",
       "90  University of Pennsylvania  Northeastern  \n",
       "91          Cornell University  Northeastern  \n",
       "92            Brown University  Northeastern  \n",
       "93         Columbia University  Northeastern  "
      ]
     },
     "execution_count": 55,
     "metadata": {},
     "output_type": "execute_result"
    }
   ],
   "source": [
    "ivies4.merge(reg, left_index=True, right_on='School Name')"
   ]
  },
  {
   "cell_type": "markdown",
   "metadata": {},
   "source": [
    "### The join() Method"
   ]
  },
  {
   "cell_type": "code",
   "execution_count": 70,
   "metadata": {},
   "outputs": [
    {
     "data": {
      "text/plain": [
       "(8, 4)"
      ]
     },
     "execution_count": 70,
     "metadata": {},
     "output_type": "execute_result"
    }
   ],
   "source": [
    "ivies4.join(reg2).shape"
   ]
  },
  {
   "cell_type": "markdown",
   "metadata": {},
   "source": [
    "The code above produces the same output as ivies4.merge(reg2, left_index=True, right_index=True), but shorter"
   ]
  },
  {
   "cell_type": "markdown",
   "metadata": {},
   "source": [
    "So the join() method helps us to write shorter code and in cases where we need to merge objects by using at least one of the indices as key"
   ]
  }
 ],
 "metadata": {
  "interpreter": {
   "hash": "31f2aee4e71d21fbe5cf8b01ff0e069b9275f58929596ceb00d14d90e3e16cd6"
  },
  "kernelspec": {
   "display_name": "Python 3.10.4 64-bit",
   "language": "python",
   "name": "python3"
  },
  "language_info": {
   "codemirror_mode": {
    "name": "ipython",
    "version": 3
   },
   "file_extension": ".py",
   "mimetype": "text/x-python",
   "name": "python",
   "nbconvert_exporter": "python",
   "pygments_lexer": "ipython3",
   "version": "3.10.12"
  },
  "orig_nbformat": 4
 },
 "nbformat": 4,
 "nbformat_minor": 2
}
